{
 "cells": [
  {
   "cell_type": "code",
   "execution_count": 1,
   "metadata": {},
   "outputs": [
    {
     "name": "stdout",
     "output_type": "stream",
     "text": [
      " Bảng tần suất điểm đã làm tròn theo mẫu xe:\n",
      "  Model  RoundedScore  Frequency\n",
      "0     A           6.0          1\n",
      "1     A           7.0          1\n",
      "2     A           8.0          2\n",
      "3     B           6.0          1\n",
      "4     B           7.0          1\n",
      "5     B           9.0          2\n",
      "6     C           5.0          1\n",
      "7     C           7.0          2\n",
      "8     C           8.0          1\n"
     ]
    }
   ],
   "source": [
    "import pandas as pd\n",
    "import sqlite3\n",
    "from scipy.stats import chi2_contingency\n",
    "\n",
    "# Dữ liệu gốc\n",
    "data = {\n",
    "    'Day': ['Day 1', 'Day 2', 'Day 3', 'Day 4'],\n",
    "    'A': [8, 7.5, 6, 7],\n",
    "    'B': [9, 8.5, 7, 6],\n",
    "    'C': [7, 7, 8, 5]\n",
    "}\n",
    "df_wide = pd.DataFrame(data)\n",
    "\n",
    "# Chuyển về dạng quan hệ (long format)\n",
    "df_long = df_wide.melt(id_vars=['Day'], var_name='Model', value_name='Score')\n",
    "\n",
    "# Chuyển thành bảng trong SQLite\n",
    "conn = sqlite3.connect(\":memory:\")\n",
    "df_long.to_sql(\"scores\", conn, index=False, if_exists=\"replace\")\n",
    "\n",
    "# Truy vấn SQL: tính tần suất điểm (đã làm tròn) theo mẫu xe\n",
    "query = \"\"\"\n",
    "SELECT \n",
    "    Model,\n",
    "    ROUND(Score) AS RoundedScore,\n",
    "    COUNT(*) AS Frequency\n",
    "FROM scores\n",
    "GROUP BY Model, RoundedScore\n",
    "ORDER BY Model, RoundedScore;\n",
    "\"\"\"\n",
    "\n",
    "result = pd.read_sql_query(query, conn)\n",
    "print(\" Bảng tần suất điểm đã làm tròn theo mẫu xe:\")\n",
    "print(result)\n"
   ]
  },
  {
   "cell_type": "code",
   "execution_count": 2,
   "metadata": {},
   "outputs": [
    {
     "name": "stdout",
     "output_type": "stream",
     "text": [
      "\n",
      " Chi-squared kiểm định giữa Model và điểm số:\n",
      "Chi² = 6.0000, p-value = 0.6472\n"
     ]
    }
   ],
   "source": [
    "# Tạo bảng chéo từ dữ liệu đã group\n",
    "pivot = pd.pivot_table(df_long, index=\"Model\", columns=\"Day\", values=\"Score\", aggfunc=\"mean\")\n",
    "\n",
    "# Hoặc nếu muốn kiểm định phân phối điểm giữa các mẫu:\n",
    "contingency = pd.crosstab(df_long['Model'], round(df_long['Score']))\n",
    "\n",
    "# Thực hiện kiểm định chi-squared\n",
    "chi2, p, dof, expected = chi2_contingency(contingency)\n",
    "\n",
    "print(\"\\n Chi-squared kiểm định giữa Model và điểm số:\")\n",
    "print(f\"Chi² = {chi2:.4f}, p-value = {p:.4f}\")\n"
   ]
  },
  {
   "cell_type": "code",
   "execution_count": 3,
   "metadata": {},
   "outputs": [
    {
     "data": {
      "text/plain": [
       "12"
      ]
     },
     "execution_count": 3,
     "metadata": {},
     "output_type": "execute_result"
    }
   ],
   "source": [
    "import pandas as pd\n",
    "import sqlite3\n",
    "\n",
    "# Tạo dataframe\n",
    "data = [\n",
    "    (\"Day 1\", \"A\", 8),\n",
    "    (\"Day 1\", \"B\", 9),\n",
    "    (\"Day 1\", \"C\", 7),\n",
    "    (\"Day 2\", \"A\", 7.5),\n",
    "    (\"Day 2\", \"B\", 8.5),\n",
    "    (\"Day 2\", \"C\", 7),\n",
    "    (\"Day 3\", \"A\", 6),\n",
    "    (\"Day 3\", \"B\", 7),\n",
    "    (\"Day 3\", \"C\", 8),\n",
    "    (\"Day 4\", \"A\", 7),\n",
    "    (\"Day 4\", \"B\", 6),\n",
    "    (\"Day 4\", \"C\", 5),\n",
    "]\n",
    "\n",
    "df = pd.DataFrame(data, columns=[\"Day\", \"Model\", \"Score\"])\n",
    "\n",
    "# Làm tròn điểm số để phù hợp với kiểm định χ²\n",
    "df[\"RoundedScore\"] = df[\"Score\"].round()\n",
    "\n",
    "# Kết nối SQLite\n",
    "conn = sqlite3.connect(\":memory:\")\n",
    "df.to_sql(\"scores\", conn, index=False, if_exists=\"replace\")\n"
   ]
  },
  {
   "cell_type": "code",
   "execution_count": 4,
   "metadata": {},
   "outputs": [
    {
     "name": "stdout",
     "output_type": "stream",
     "text": [
      "  Model  RoundedScore  Frequency\n",
      "0     A           6.0          1\n",
      "1     A           7.0          1\n",
      "2     A           8.0          2\n",
      "3     B           6.0          1\n",
      "4     B           7.0          1\n",
      "5     B           8.0          1\n",
      "6     B           9.0          1\n",
      "7     C           5.0          1\n",
      "8     C           7.0          2\n",
      "9     C           8.0          1\n"
     ]
    }
   ],
   "source": [
    "query = \"\"\"\n",
    "SELECT Model, RoundedScore, COUNT(*) as Frequency\n",
    "FROM scores\n",
    "GROUP BY Model, RoundedScore\n",
    "ORDER BY Model, RoundedScore;\n",
    "\"\"\"\n",
    "\n",
    "freq_df = pd.read_sql_query(query, conn)\n",
    "print(freq_df)\n"
   ]
  },
  {
   "cell_type": "code",
   "execution_count": 5,
   "metadata": {},
   "outputs": [
    {
     "name": "stdout",
     "output_type": "stream",
     "text": [
      "Chi-squared = 6.0\n",
      "p-value = 0.6472\n"
     ]
    }
   ],
   "source": [
    "from scipy.stats import chi2_contingency\n",
    "\n",
    "# Tạo bảng chéo (contingency table)\n",
    "pivot = pd.pivot_table(df, values=\"Score\", index=\"Model\", columns=\"RoundedScore\", aggfunc='count', fill_value=0)\n",
    "\n",
    "# Kiểm định χ²\n",
    "chi2, p, dof, expected = chi2_contingency(pivot)\n",
    "\n",
    "print(\"Chi-squared =\", round(chi2, 4))\n",
    "print(\"p-value =\", round(p, 4))\n"
   ]
  },
  {
   "cell_type": "code",
   "execution_count": 10,
   "metadata": {},
   "outputs": [
    {
     "name": "stdout",
     "output_type": "stream",
     "text": [
      "Từ kết quả ta thấy p-value = 0.6472 > 0.05 ==> không có sự khác biệt rõ ràng trong 4 ngày \n",
      "và kết quả thử nghiệm phụ thuộc vào mẫu xe\n"
     ]
    }
   ],
   "source": [
    "print('Từ kết quả ta thấy p-value = 0.6472 > 0.05 ==> không có sự khác biệt rõ ràng trong 4 ngày ')\n",
    "\n",
    "print('và kết quả thử nghiệm phụ thuộc vào mẫu xe')"
   ]
  }
 ],
 "metadata": {
  "kernelspec": {
   "display_name": "base",
   "language": "python",
   "name": "python3"
  },
  "language_info": {
   "codemirror_mode": {
    "name": "ipython",
    "version": 3
   },
   "file_extension": ".py",
   "mimetype": "text/x-python",
   "name": "python",
   "nbconvert_exporter": "python",
   "pygments_lexer": "ipython3",
   "version": "3.12.4"
  }
 },
 "nbformat": 4,
 "nbformat_minor": 2
}
