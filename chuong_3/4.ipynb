{
 "cells": [
  {
   "cell_type": "code",
   "execution_count": 1,
   "metadata": {},
   "outputs": [
    {
     "data": {
      "text/plain": [
       "13"
      ]
     },
     "execution_count": 1,
     "metadata": {},
     "output_type": "execute_result"
    }
   ],
   "source": [
    "import pandas as pd\n",
    "import sqlite3\n",
    "import numpy as np\n",
    "\n",
    "# Tạo dữ liệu điểm số (Score)\n",
    "data = [7, 8, 8, 7.5, 9, 10, 6, 7, 7, 8, 6, 5, 20]  # 20 là ngoại lệ\n",
    "\n",
    "df = pd.DataFrame(data, columns=[\"Score\"])\n",
    "\n",
    "# Tạo kết nối SQLite và lưu vào bảng\n",
    "conn = sqlite3.connect(\":memory:\")\n",
    "df.to_sql(\"scores\", conn, index=False, if_exists=\"replace\")\n"
   ]
  },
  {
   "cell_type": "code",
   "execution_count": 2,
   "metadata": {},
   "outputs": [],
   "source": [
    "median = df[\"Score\"].median()\n",
    "df[\"abs_dev\"] = abs(df[\"Score\"] - median)\n",
    "mad = df[\"abs_dev\"].median()\n",
    "threshold = 1.5 * mad\n"
   ]
  },
  {
   "cell_type": "code",
   "execution_count": 4,
   "metadata": {},
   "outputs": [
    {
     "name": "stdout",
     "output_type": "stream",
     "text": [
      " Các giá trị ngoại lệ theo MAD:\n",
      "   Score  abs_dev\n",
      "0    9.0      1.5\n",
      "1   10.0      2.5\n",
      "2    6.0      1.5\n",
      "3    6.0      1.5\n",
      "4    5.0      2.5\n",
      "5   20.0     12.5\n"
     ]
    }
   ],
   "source": [
    "# Lưu vào bảng SQLite để có thể dùng SQL lọc\n",
    "df.to_sql(\"scores_with_dev\", conn, index=False, if_exists=\"replace\")\n",
    "\n",
    "# Viết truy vấn SQL để lọc các điểm ngoại lệ\n",
    "query = f\"\"\"\n",
    "SELECT *\n",
    "FROM scores_with_dev\n",
    "WHERE abs(Score - {median}) > {threshold}\n",
    "\"\"\"\n",
    "\n",
    "outliers = pd.read_sql_query(query, conn)\n",
    "print(\" Các giá trị ngoại lệ theo MAD:\")\n",
    "print(outliers)\n"
   ]
  },
  {
   "cell_type": "markdown",
   "metadata": {},
   "source": [
    "MAD = Median của |x - median(X)|\n",
    "\n",
    "Tính median(Score):\n",
    "Sau khi sắp xếp: [5.0, 6.0, 6.0, 9.0, 10.0, 20.0]\n",
    "\n",
    "Trung vị = (6.0 + 9.0) / 2 = 7.5\n",
    "\n",
    "Tính abs_dev = |Score - median|\n",
    "\n",
    "Tính MAD = median(abs_dev):\n",
    "abs_dev = [1.5, 2.5, 1.5, 1.5, 2.5, 12.5]\n",
    "\n",
    "Sắp xếp: [1.5, 1.5, 1.5, 2.5, 2.5, 12.5]\n",
    "\n",
    "Median = (1.5 + 2.5)/2 = 2.0\n",
    "\n",
    "Áp dụng ngưỡng ngoại lệ:\n",
    "Ngưỡng = 1.5 * MAD = 1.5 * 2.0 = 3.0\n",
    "\n",
    "Kiểm tra:\n",
    "Chỉ có duy nhất:\n",
    "\n",
    "|20 - 7.5| = 12.5 > 3.0\n",
    "→ Score = 20.0 bị đánh dấu là ngoại lệ"
   ]
  },
  {
   "cell_type": "markdown",
   "metadata": {},
   "source": [
    "Chỉ có Score = 20.0 là ngoại lệ theo phương pháp MAD với hệ số 1.5."
   ]
  }
 ],
 "metadata": {
  "kernelspec": {
   "display_name": "base",
   "language": "python",
   "name": "python3"
  },
  "language_info": {
   "codemirror_mode": {
    "name": "ipython",
    "version": 3
   },
   "file_extension": ".py",
   "mimetype": "text/x-python",
   "name": "python",
   "nbconvert_exporter": "python",
   "pygments_lexer": "ipython3",
   "version": "3.12.4"
  }
 },
 "nbformat": 4,
 "nbformat_minor": 2
}
