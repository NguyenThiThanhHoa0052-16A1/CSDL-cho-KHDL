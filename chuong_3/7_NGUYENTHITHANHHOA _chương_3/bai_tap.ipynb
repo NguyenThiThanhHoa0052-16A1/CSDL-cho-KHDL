{
 "cells": [
  {
   "cell_type": "markdown",
   "metadata": {},
   "source": [
    "# Bài 1"
   ]
  },
  {
   "cell_type": "code",
   "execution_count": 3,
   "metadata": {},
   "outputs": [
    {
     "name": "stdout",
     "output_type": "stream",
     "text": [
      "Hệ số tương quan Pearson giữa A và B là: 0.9959\n"
     ]
    }
   ],
   "source": [
    "import pandas as pd\n",
    "import sqlite3\n",
    "import math\n",
    "\n",
    "# Tạo dữ liệu\n",
    "df = pd.DataFrame({\n",
    "    'A': [10, 20, 30, 40, 50],\n",
    "    'B': [15, 25, 35, 45, 60]\n",
    "})\n",
    "\n",
    "# Tạo database SQLite trong RAM\n",
    "conn = sqlite3.connect(\":memory:\")\n",
    "df.to_sql(\"data\", conn, index=False, if_exists=\"replace\")\n",
    "\n",
    "# Truy vấn các thành phần cần thiết\n",
    "query = \"\"\"\n",
    "SELECT \n",
    "    COUNT(*) as n,\n",
    "    SUM(A) as sum_a,\n",
    "    SUM(B) as sum_b,\n",
    "    SUM(A*A) as sum_a2,\n",
    "    SUM(B*B) as sum_b2,\n",
    "    SUM(A*B) as sum_ab\n",
    "FROM data;\n",
    "\"\"\"\n",
    "\n",
    "# Lấy kết quả\n",
    "res = pd.read_sql_query(query, conn).iloc[0]\n",
    "\n",
    "# Tính r_AB theo công thức\n",
    "n = res['n']\n",
    "sum_a = res['sum_a']\n",
    "sum_b = res['sum_b']\n",
    "sum_a2 = res['sum_a2']\n",
    "sum_b2 = res['sum_b2']\n",
    "sum_ab = res['sum_ab']\n",
    "\n",
    "numerator = n * sum_ab - sum_a * sum_b\n",
    "denominator = math.sqrt(n * sum_a2 - sum_a ** 2) * math.sqrt(n * sum_b2 - sum_b ** 2)\n",
    "\n",
    "r_ab = numerator / denominator\n",
    "\n",
    "print(\"Hệ số tương quan Pearson giữa A và B là:\", round(r_ab, 4))\n"
   ]
  },
  {
   "cell_type": "markdown",
   "metadata": {},
   "source": [
    "# Bài 2"
   ]
  },
  {
   "cell_type": "code",
   "execution_count": 1,
   "metadata": {},
   "outputs": [
    {
     "name": "stdout",
     "output_type": "stream",
     "text": [
      "  Model  RoundedScore  Frequency\n",
      "0     A           6.0          1\n",
      "1     A           7.0          1\n",
      "2     A           8.0          2\n",
      "3     B           6.0          1\n",
      "4     B           7.0          1\n",
      "5     B           8.0          1\n",
      "6     B           9.0          1\n",
      "7     C           5.0          1\n",
      "8     C           7.0          2\n",
      "9     C           8.0          1\n",
      "Chi-squared = 6.0\n",
      "p-value = 0.6472\n"
     ]
    }
   ],
   "source": [
    "import pandas as pd\n",
    "import sqlite3\n",
    "\n",
    "# Tạo dataframe\n",
    "data = [\n",
    "    (\"Day 1\", \"A\", 8),\n",
    "    (\"Day 1\", \"B\", 9),\n",
    "    (\"Day 1\", \"C\", 7),\n",
    "    (\"Day 2\", \"A\", 7.5),\n",
    "    (\"Day 2\", \"B\", 8.5),\n",
    "    (\"Day 2\", \"C\", 7),\n",
    "    (\"Day 3\", \"A\", 6),\n",
    "    (\"Day 3\", \"B\", 7),\n",
    "    (\"Day 3\", \"C\", 8),\n",
    "    (\"Day 4\", \"A\", 7),\n",
    "    (\"Day 4\", \"B\", 6),\n",
    "    (\"Day 4\", \"C\", 5),\n",
    "]\n",
    "\n",
    "df = pd.DataFrame(data, columns=[\"Day\", \"Model\", \"Score\"])\n",
    "\n",
    "# Làm tròn điểm số để phù hợp với kiểm định χ²\n",
    "df[\"RoundedScore\"] = df[\"Score\"].round()\n",
    "\n",
    "# Kết nối SQLite\n",
    "conn = sqlite3.connect(\":memory:\")\n",
    "df.to_sql(\"scores\", conn, index=False, if_exists=\"replace\")\n",
    "query = \"\"\"\n",
    "SELECT Model, RoundedScore, COUNT(*) as Frequency\n",
    "FROM scores\n",
    "GROUP BY Model, RoundedScore\n",
    "ORDER BY Model, RoundedScore;\n",
    "\"\"\"\n",
    "\n",
    "freq_df = pd.read_sql_query(query, conn)\n",
    "print(freq_df)\n",
    "from scipy.stats import chi2_contingency\n",
    "\n",
    "# Tạo bảng chéo (contingency table)\n",
    "pivot = pd.pivot_table(df, values=\"Score\", index=\"Model\", columns=\"RoundedScore\", aggfunc='count', fill_value=0)\n",
    "\n",
    "# Kiểm định χ²\n",
    "chi2, p, dof, expected = chi2_contingency(pivot)\n",
    "\n",
    "print(\"Chi-squared =\", round(chi2, 4))\n",
    "print(\"p-value =\", round(p, 4))\n"
   ]
  },
  {
   "cell_type": "code",
   "execution_count": 2,
   "metadata": {},
   "outputs": [
    {
     "name": "stdout",
     "output_type": "stream",
     "text": [
      "Từ kết quả ta thấy p-value = 0.6472 > 0.05 ==> không có sự khác biệt rõ ràng trong 4 ngày \n",
      "và kết quả thử nghiệm phụ thuộc vào mẫu xe\n"
     ]
    }
   ],
   "source": [
    "print('Từ kết quả ta thấy p-value = 0.6472 > 0.05 ==> không có sự khác biệt rõ ràng trong 4 ngày ')\n",
    "\n",
    "print('và kết quả thử nghiệm phụ thuộc vào mẫu xe')"
   ]
  },
  {
   "cell_type": "markdown",
   "metadata": {},
   "source": [
    "# Bài 3"
   ]
  },
  {
   "cell_type": "code",
   "execution_count": 3,
   "metadata": {},
   "outputs": [
    {
     "name": "stdout",
     "output_type": "stream",
     "text": [
      "   departure_time departure_time_formatted\n",
      "0             830                    08:30\n",
      "1            1445                    14:45\n",
      "2               0                    00:00\n",
      "3            1230                    12:30\n",
      "4              50                    00:50\n"
     ]
    }
   ],
   "source": [
    "import pandas as pd\n",
    "import sqlite3\n",
    "\n",
    "# Tạo DataFrame\n",
    "data = {\n",
    "    'departure_time': [830, 1445, 0, 1230, 50]\n",
    "}\n",
    "df = pd.DataFrame(data)\n",
    "\n",
    "# Tạo kết nối SQLite trong bộ nhớ\n",
    "conn = sqlite3.connect(':memory:')\n",
    "df.to_sql('flights', conn, index=False, if_exists='replace')\n",
    "\n",
    "# Truy vấn SQL để chuyển đổi thời gian\n",
    "query = \"\"\"\n",
    "SELECT \n",
    "    departure_time,\n",
    "    printf('%02d:%02d', departure_time / 100, departure_time % 100) AS departure_time_formatted\n",
    "FROM \n",
    "    flights\n",
    "\"\"\"\n",
    "result = pd.read_sql_query(query, conn)\n",
    "print(result)\n"
   ]
  },
  {
   "cell_type": "markdown",
   "metadata": {},
   "source": [
    "# Bài 4"
   ]
  },
  {
   "cell_type": "code",
   "execution_count": 4,
   "metadata": {},
   "outputs": [
    {
     "name": "stdout",
     "output_type": "stream",
     "text": [
      " Các giá trị ngoại lệ theo MAD:\n",
      "   Score  abs_dev\n",
      "0    9.0      1.5\n",
      "1   10.0      2.5\n",
      "2    6.0      1.5\n",
      "3    6.0      1.5\n",
      "4    5.0      2.5\n",
      "5   20.0     12.5\n"
     ]
    }
   ],
   "source": [
    "import pandas as pd\n",
    "import sqlite3\n",
    "import numpy as np\n",
    "\n",
    "# Tạo dữ liệu điểm số (Score)\n",
    "data = [7, 8, 8, 7.5, 9, 10, 6, 7, 7, 8, 6, 5, 20]  # 20 là ngoại lệ\n",
    "\n",
    "df = pd.DataFrame(data, columns=[\"Score\"])\n",
    "\n",
    "# Tạo kết nối SQLite và lưu vào bảng\n",
    "conn = sqlite3.connect(\":memory:\")\n",
    "df.to_sql(\"scores\", conn, index=False, if_exists=\"replace\")\n",
    "median = df[\"Score\"].median()\n",
    "df[\"abs_dev\"] = abs(df[\"Score\"] - median)\n",
    "mad = df[\"abs_dev\"].median()\n",
    "threshold = 1.5 * mad\n",
    "# Lưu vào bảng SQLite để có thể dùng SQL lọc\n",
    "df.to_sql(\"scores_with_dev\", conn, index=False, if_exists=\"replace\")\n",
    "\n",
    "# Viết truy vấn SQL để lọc các điểm ngoại lệ\n",
    "query = f\"\"\"\n",
    "SELECT *\n",
    "FROM scores_with_dev\n",
    "WHERE abs(Score - {median}) > {threshold}\n",
    "\"\"\"\n",
    "\n",
    "outliers = pd.read_sql_query(query, conn)\n",
    "print(\" Các giá trị ngoại lệ theo MAD:\")\n",
    "print(outliers)\n"
   ]
  },
  {
   "cell_type": "markdown",
   "metadata": {},
   "source": [
    "MAD = Median của |x - median(X)|\n",
    "\n",
    "Tính median(Score):\n",
    "Sau khi sắp xếp: [5.0, 6.0, 6.0, 9.0, 10.0, 20.0]\n",
    "\n",
    "Trung vị = (6.0 + 9.0) / 2 = 7.5\n",
    "\n",
    "Tính abs_dev = |Score - median|\n",
    "\n",
    "Tính MAD = median(abs_dev):\n",
    "abs_dev = [1.5, 2.5, 1.5, 1.5, 2.5, 12.5]\n",
    "\n",
    "Sắp xếp: [1.5, 1.5, 1.5, 2.5, 2.5, 12.5]\n",
    "\n",
    "Median = (1.5 + 2.5)/2 = 2.0\n",
    "\n",
    "Áp dụng ngưỡng ngoại lệ:\n",
    "Ngưỡng = 1.5 * MAD = 1.5 * 2.0 = 3.0\n",
    "\n",
    "Kiểm tra:\n",
    "Chỉ có duy nhất:\n",
    "\n",
    "|20 - 7.5| = 12.5 > 3.0\n",
    "→ Score = 20.0 bị đánh dấu là ngoại lệ"
   ]
  },
  {
   "cell_type": "markdown",
   "metadata": {},
   "source": [
    "# Bài 5"
   ]
  },
  {
   "cell_type": "code",
   "execution_count": 5,
   "metadata": {},
   "outputs": [
    {
     "name": "stdout",
     "output_type": "stream",
     "text": [
      "   id1  id2 last_name last_name  weight  weight  last_name_dist  weight_dist  \\\n",
      "0    1    2     Smith     Smith      70      70               0            0   \n",
      "1    1    3     Smith    Nguyen      70      60               1            1   \n",
      "2    1    4     Smith    Nguyen      70      65               1            1   \n",
      "3    1    5     Smith      Tran      70      55               1            1   \n",
      "4    2    3     Smith    Nguyen      70      60               1            1   \n",
      "5    2    4     Smith    Nguyen      70      65               1            1   \n",
      "6    2    5     Smith      Tran      70      55               1            1   \n",
      "7    3    4    Nguyen    Nguyen      60      65               0            1   \n",
      "8    3    5    Nguyen      Tran      60      55               1            1   \n",
      "9    4    5    Nguyen      Tran      65      55               1            1   \n",
      "\n",
      "   total_boolean_distance match_result  \n",
      "0                       0  SAME PERSON  \n",
      "1                       2    DIFFERENT  \n",
      "2                       2    DIFFERENT  \n",
      "3                       2    DIFFERENT  \n",
      "4                       2    DIFFERENT  \n",
      "5                       2    DIFFERENT  \n",
      "6                       2    DIFFERENT  \n",
      "7                       1    DIFFERENT  \n",
      "8                       2    DIFFERENT  \n",
      "9                       2    DIFFERENT  \n"
     ]
    }
   ],
   "source": [
    "import sqlite3\n",
    "import pandas as pd\n",
    "\n",
    "# Tạo bảng dữ liệu mẫu\n",
    "data = [\n",
    "    ('Smith', 70, 175),\n",
    "    ('Smith', 70, 180),\n",
    "    ('Nguyen', 60, 160),\n",
    "    ('Nguyen', 65, 165),\n",
    "    ('Tran', 55, 155)\n",
    "]\n",
    "\n",
    "# Tạo kết nối SQLite trong bộ nhớ\n",
    "conn = sqlite3.connect(':memory:')\n",
    "cur = conn.cursor()\n",
    "\n",
    "# Tạo bảng Patient\n",
    "cur.execute('''\n",
    "    CREATE TABLE Patient (\n",
    "        id INTEGER PRIMARY KEY AUTOINCREMENT,\n",
    "        last_name TEXT,\n",
    "        weight INTEGER,\n",
    "        height INTEGER\n",
    "    )\n",
    "''')\n",
    "\n",
    "# Chèn dữ liệu\n",
    "cur.executemany('INSERT INTO Patient (last_name, weight, height) VALUES (?, ?, ?)', data)\n",
    "conn.commit()\n",
    "\n",
    "# Truy vấn: So sánh cặp bệnh nhân và tính khoảng cách Boolean\n",
    "query = '''\n",
    "SELECT \n",
    "    a.id AS id1,\n",
    "    b.id AS id2,\n",
    "    a.last_name, \n",
    "    b.last_name,\n",
    "    a.weight, \n",
    "    b.weight,\n",
    "    CASE WHEN a.last_name = b.last_name THEN 0 ELSE 1 END AS last_name_dist,\n",
    "    CASE WHEN a.weight = b.weight THEN 0 ELSE 1 END AS weight_dist,\n",
    "    (CASE WHEN a.last_name = b.last_name THEN 0 ELSE 1 END +\n",
    "     CASE WHEN a.weight = b.weight THEN 0 ELSE 1 END) AS total_boolean_distance,\n",
    "    CASE WHEN \n",
    "        (CASE WHEN a.last_name = b.last_name THEN 0 ELSE 1 END +\n",
    "         CASE WHEN a.weight = b.weight THEN 0 ELSE 1 END) = 0 \n",
    "    THEN 'SAME PERSON'\n",
    "    ELSE 'DIFFERENT' END AS match_result\n",
    "FROM Patient a\n",
    "JOIN Patient b ON a.id < b.id\n",
    "'''\n",
    "\n",
    "# Đọc kết quả\n",
    "df_result = pd.read_sql_query(query, conn)\n",
    "print(df_result)\n"
   ]
  },
  {
   "cell_type": "markdown",
   "metadata": {},
   "source": [
    "Chỉ duy nhất cặp (id1 = 1, id2 = 2) có:\n",
    "\n",
    "last_name = \"Smith\" và \"Smith\" → giống nhau → last_name_dist = 0\n",
    "\n",
    "weight = 70 và 70 → giống nhau → weight_dist = 0\n",
    "\n",
    "total_boolean_distance = 0\n",
    "\n",
    "→ Kết luận: Chỉ có cặp (1, 2) là có thể là cùng một người."
   ]
  }
 ],
 "metadata": {
  "kernelspec": {
   "display_name": "base",
   "language": "python",
   "name": "python3"
  },
  "language_info": {
   "codemirror_mode": {
    "name": "ipython",
    "version": 3
   },
   "file_extension": ".py",
   "mimetype": "text/x-python",
   "name": "python",
   "nbconvert_exporter": "python",
   "pygments_lexer": "ipython3",
   "version": "3.12.4"
  }
 },
 "nbformat": 4,
 "nbformat_minor": 2
}
