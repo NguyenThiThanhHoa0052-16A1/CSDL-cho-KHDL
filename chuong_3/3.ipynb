{
 "cells": [
  {
   "cell_type": "code",
   "execution_count": 3,
   "metadata": {},
   "outputs": [
    {
     "name": "stdout",
     "output_type": "stream",
     "text": [
      "   departure_time departure_time_formatted\n",
      "0             830                    08:30\n",
      "1            1445                    14:45\n",
      "2               0                    00:00\n",
      "3            1230                    12:30\n",
      "4              50                    00:50\n"
     ]
    }
   ],
   "source": [
    "import pandas as pd\n",
    "import sqlite3\n",
    "\n",
    "# Tạo DataFrame\n",
    "data = {\n",
    "    'departure_time': [830, 1445, 0, 1230, 50]\n",
    "}\n",
    "df = pd.DataFrame(data)\n",
    "\n",
    "# Tạo kết nối SQLite trong bộ nhớ\n",
    "conn = sqlite3.connect(':memory:')\n",
    "df.to_sql('flights', conn, index=False, if_exists='replace')\n",
    "\n",
    "# Truy vấn SQL để chuyển đổi thời gian\n",
    "query = \"\"\"\n",
    "SELECT \n",
    "    departure_time,\n",
    "    printf('%02d:%02d', departure_time / 100, departure_time % 100) AS departure_time_formatted\n",
    "FROM \n",
    "    flights\n",
    "\"\"\"\n",
    "result = pd.read_sql_query(query, conn)\n",
    "print(result)\n"
   ]
  }
 ],
 "metadata": {
  "kernelspec": {
   "display_name": "base",
   "language": "python",
   "name": "python3"
  },
  "language_info": {
   "codemirror_mode": {
    "name": "ipython",
    "version": 3
   },
   "file_extension": ".py",
   "mimetype": "text/x-python",
   "name": "python",
   "nbconvert_exporter": "python",
   "pygments_lexer": "ipython3",
   "version": "3.12.4"
  }
 },
 "nbformat": 4,
 "nbformat_minor": 2
}
