{
 "cells": [
  {
   "cell_type": "code",
   "execution_count": 2,
   "metadata": {},
   "outputs": [
    {
     "name": "stdout",
     "output_type": "stream",
     "text": [
      "   id1  id2 last_name last_name  weight  weight  last_name_dist  weight_dist  \\\n",
      "0    1    2     Smith     Smith      70      70               0            0   \n",
      "1    1    3     Smith    Nguyen      70      60               1            1   \n",
      "2    1    4     Smith    Nguyen      70      65               1            1   \n",
      "3    1    5     Smith      Tran      70      55               1            1   \n",
      "4    2    3     Smith    Nguyen      70      60               1            1   \n",
      "5    2    4     Smith    Nguyen      70      65               1            1   \n",
      "6    2    5     Smith      Tran      70      55               1            1   \n",
      "7    3    4    Nguyen    Nguyen      60      65               0            1   \n",
      "8    3    5    Nguyen      Tran      60      55               1            1   \n",
      "9    4    5    Nguyen      Tran      65      55               1            1   \n",
      "\n",
      "   total_boolean_distance match_result  \n",
      "0                       0  SAME PERSON  \n",
      "1                       2    DIFFERENT  \n",
      "2                       2    DIFFERENT  \n",
      "3                       2    DIFFERENT  \n",
      "4                       2    DIFFERENT  \n",
      "5                       2    DIFFERENT  \n",
      "6                       2    DIFFERENT  \n",
      "7                       1    DIFFERENT  \n",
      "8                       2    DIFFERENT  \n",
      "9                       2    DIFFERENT  \n"
     ]
    }
   ],
   "source": [
    "import sqlite3\n",
    "import pandas as pd\n",
    "\n",
    "# Tạo bảng dữ liệu mẫu\n",
    "data = [\n",
    "    ('Smith', 70, 175),\n",
    "    ('Smith', 70, 180),\n",
    "    ('Nguyen', 60, 160),\n",
    "    ('Nguyen', 65, 165),\n",
    "    ('Tran', 55, 155)\n",
    "]\n",
    "\n",
    "# Tạo kết nối SQLite trong bộ nhớ\n",
    "conn = sqlite3.connect(':memory:')\n",
    "cur = conn.cursor()\n",
    "\n",
    "# Tạo bảng Patient\n",
    "cur.execute('''\n",
    "    CREATE TABLE Patient (\n",
    "        id INTEGER PRIMARY KEY AUTOINCREMENT,\n",
    "        last_name TEXT,\n",
    "        weight INTEGER,\n",
    "        height INTEGER\n",
    "    )\n",
    "''')\n",
    "\n",
    "# Chèn dữ liệu\n",
    "cur.executemany('INSERT INTO Patient (last_name, weight, height) VALUES (?, ?, ?)', data)\n",
    "conn.commit()\n",
    "\n",
    "# Truy vấn: So sánh cặp bệnh nhân và tính khoảng cách Boolean\n",
    "query = '''\n",
    "SELECT \n",
    "    a.id AS id1,\n",
    "    b.id AS id2,\n",
    "    a.last_name, \n",
    "    b.last_name,\n",
    "    a.weight, \n",
    "    b.weight,\n",
    "    CASE WHEN a.last_name = b.last_name THEN 0 ELSE 1 END AS last_name_dist,\n",
    "    CASE WHEN a.weight = b.weight THEN 0 ELSE 1 END AS weight_dist,\n",
    "    (CASE WHEN a.last_name = b.last_name THEN 0 ELSE 1 END +\n",
    "     CASE WHEN a.weight = b.weight THEN 0 ELSE 1 END) AS total_boolean_distance,\n",
    "    CASE WHEN \n",
    "        (CASE WHEN a.last_name = b.last_name THEN 0 ELSE 1 END +\n",
    "         CASE WHEN a.weight = b.weight THEN 0 ELSE 1 END) = 0 \n",
    "    THEN 'SAME PERSON'\n",
    "    ELSE 'DIFFERENT' END AS match_result\n",
    "FROM Patient a\n",
    "JOIN Patient b ON a.id < b.id\n",
    "'''\n",
    "\n",
    "# Đọc kết quả\n",
    "df_result = pd.read_sql_query(query, conn)\n",
    "print(df_result)\n"
   ]
  },
  {
   "cell_type": "markdown",
   "metadata": {},
   "source": [
    "Chỉ duy nhất cặp (id1 = 1, id2 = 2) có:\n",
    "\n",
    "last_name = \"Smith\" và \"Smith\" → giống nhau → last_name_dist = 0\n",
    "\n",
    "weight = 70 và 70 → giống nhau → weight_dist = 0\n",
    "\n",
    "total_boolean_distance = 0\n",
    "\n",
    "→ Kết luận: Chỉ có cặp (1, 2) là có thể là cùng một người."
   ]
  }
 ],
 "metadata": {
  "kernelspec": {
   "display_name": "base",
   "language": "python",
   "name": "python3"
  },
  "language_info": {
   "codemirror_mode": {
    "name": "ipython",
    "version": 3
   },
   "file_extension": ".py",
   "mimetype": "text/x-python",
   "name": "python",
   "nbconvert_exporter": "python",
   "pygments_lexer": "ipython3",
   "version": "3.12.4"
  }
 },
 "nbformat": 4,
 "nbformat_minor": 2
}
