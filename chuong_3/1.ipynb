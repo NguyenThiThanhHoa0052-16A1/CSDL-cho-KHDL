{
 "cells": [
  {
   "cell_type": "code",
   "execution_count": 3,
   "metadata": {},
   "outputs": [
    {
     "name": "stdout",
     "output_type": "stream",
     "text": [
      "Hệ số tương quan Pearson giữa A và B là: 0.9959\n"
     ]
    }
   ],
   "source": [
    "import pandas as pd\n",
    "import sqlite3\n",
    "import math\n",
    "\n",
    "# Tạo dữ liệu\n",
    "df = pd.DataFrame({\n",
    "    'A': [10, 20, 30, 40, 50],\n",
    "    'B': [15, 25, 35, 45, 60]\n",
    "})\n",
    "\n",
    "# Tạo database SQLite trong RAM\n",
    "conn = sqlite3.connect(\":memory:\")\n",
    "df.to_sql(\"data\", conn, index=False, if_exists=\"replace\")\n",
    "\n",
    "# Truy vấn các thành phần cần thiết\n",
    "query = \"\"\"\n",
    "SELECT \n",
    "    COUNT(*) as n,\n",
    "    SUM(A) as sum_a,\n",
    "    SUM(B) as sum_b,\n",
    "    SUM(A*A) as sum_a2,\n",
    "    SUM(B*B) as sum_b2,\n",
    "    SUM(A*B) as sum_ab\n",
    "FROM data;\n",
    "\"\"\"\n",
    "\n",
    "# Lấy kết quả\n",
    "res = pd.read_sql_query(query, conn).iloc[0]\n",
    "\n",
    "# Tính r_AB theo công thức\n",
    "n = res['n']\n",
    "sum_a = res['sum_a']\n",
    "sum_b = res['sum_b']\n",
    "sum_a2 = res['sum_a2']\n",
    "sum_b2 = res['sum_b2']\n",
    "sum_ab = res['sum_ab']\n",
    "\n",
    "numerator = n * sum_ab - sum_a * sum_b\n",
    "denominator = math.sqrt(n * sum_a2 - sum_a ** 2) * math.sqrt(n * sum_b2 - sum_b ** 2)\n",
    "\n",
    "r_ab = numerator / denominator\n",
    "\n",
    "print(\"Hệ số tương quan Pearson giữa A và B là:\", round(r_ab, 4))\n"
   ]
  }
 ],
 "metadata": {
  "kernelspec": {
   "display_name": "base",
   "language": "python",
   "name": "python3"
  },
  "language_info": {
   "codemirror_mode": {
    "name": "ipython",
    "version": 3
   },
   "file_extension": ".py",
   "mimetype": "text/x-python",
   "name": "python",
   "nbconvert_exporter": "python",
   "pygments_lexer": "ipython3",
   "version": "3.12.4"
  }
 },
 "nbformat": 4,
 "nbformat_minor": 2
}
