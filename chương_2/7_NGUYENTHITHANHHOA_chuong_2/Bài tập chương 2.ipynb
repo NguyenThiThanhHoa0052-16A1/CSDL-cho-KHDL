{
 "cells": [
  {
   "cell_type": "markdown",
   "metadata": {},
   "source": [
    "## 1. Hãy kết nối hai bảng trên theo những cách sau:\n",
    "- Sử dụng tích Decartes.\n",
    "- Sử dụng JOIN: INNER JOIN, LEFT JOIN, RIGHT JOIN, FULL OUTER JOIN."
   ]
  },
  {
   "cell_type": "code",
   "execution_count": 1,
   "metadata": {},
   "outputs": [],
   "source": [
    "import pandas as pd\n",
    "\n",
    "# Tạo DataFrame cho bảng Student\n",
    "student_data = {\n",
    "    \"student_id\": [1, 2, 3, 4, 5, 6, 7, 8, 9, 10],\n",
    "    \"name\": [\"Nguyen Minh Hoang\", \"Tran Thi Lan\", \"Pham Van Nam\", \"Le Thanh Huyen\", \"Vu Quoc Anh\",\n",
    "             \"Dang Thuy Linh\", \"Bui Tien Dung\", \"Ho Ngoc Mai\", \"Duong Huu Phuc\", \"Cao Thi Hanh\"],\n",
    "    \"class\": [\"May Tinh\", \"Kinh Te\", \"Toan Tin\", \"Toan Tin\", \"May Tinh\",\n",
    "              \"May Tinh\", \"Kinh Te\", \"Toan Tin\", \"Kinh Te\", \"May Tinh\"],\n",
    "    \"course_id\": [12, 34, 7, 20, 24, 24, 34, 20, 7, 12],\n",
    "    \"score\": [6.7, 9.2, 7.9, 7.2, 8.0, 5.5, 9.2, 8.8, 7.2, 7.0]\n",
    "}\n",
    "df_student = pd.DataFrame(student_data)\n",
    "\n",
    "# Tạo DataFrame cho bảng Course\n",
    "course_data = {\n",
    "    \"id\": [12, 34, 26],\n",
    "    \"course_name\": [\"Giai tich\", \"Thong ke\", \"Tin hoc\"]\n",
    "}\n",
    "df_course = pd.DataFrame(course_data)\n",
    "\n",
    "\n",
    "\n"
   ]
  },
  {
   "cell_type": "code",
   "execution_count": 2,
   "metadata": {},
   "outputs": [
    {
     "name": "stdout",
     "output_type": "stream",
     "text": [
      "\n",
      "Tích Descartes (Cross Join):\n",
      "     student_id               name     class  course_id  score  id course_name\n",
      "0            1  Nguyen Minh Hoang  May Tinh         12    6.7  12   Giai tich\n",
      "1            1  Nguyen Minh Hoang  May Tinh         12    6.7  34    Thong ke\n",
      "2            1  Nguyen Minh Hoang  May Tinh         12    6.7  26     Tin hoc\n",
      "3            2       Tran Thi Lan   Kinh Te         34    9.2  12   Giai tich\n",
      "4            2       Tran Thi Lan   Kinh Te         34    9.2  34    Thong ke\n",
      "5            2       Tran Thi Lan   Kinh Te         34    9.2  26     Tin hoc\n",
      "6            3       Pham Van Nam  Toan Tin          7    7.9  12   Giai tich\n",
      "7            3       Pham Van Nam  Toan Tin          7    7.9  34    Thong ke\n",
      "8            3       Pham Van Nam  Toan Tin          7    7.9  26     Tin hoc\n",
      "9            4     Le Thanh Huyen  Toan Tin         20    7.2  12   Giai tich\n",
      "10           4     Le Thanh Huyen  Toan Tin         20    7.2  34    Thong ke\n",
      "11           4     Le Thanh Huyen  Toan Tin         20    7.2  26     Tin hoc\n",
      "12           5        Vu Quoc Anh  May Tinh         24    8.0  12   Giai tich\n",
      "13           5        Vu Quoc Anh  May Tinh         24    8.0  34    Thong ke\n",
      "14           5        Vu Quoc Anh  May Tinh         24    8.0  26     Tin hoc\n",
      "15           6     Dang Thuy Linh  May Tinh         24    5.5  12   Giai tich\n",
      "16           6     Dang Thuy Linh  May Tinh         24    5.5  34    Thong ke\n",
      "17           6     Dang Thuy Linh  May Tinh         24    5.5  26     Tin hoc\n",
      "18           7      Bui Tien Dung   Kinh Te         34    9.2  12   Giai tich\n",
      "19           7      Bui Tien Dung   Kinh Te         34    9.2  34    Thong ke\n",
      "20           7      Bui Tien Dung   Kinh Te         34    9.2  26     Tin hoc\n",
      "21           8        Ho Ngoc Mai  Toan Tin         20    8.8  12   Giai tich\n",
      "22           8        Ho Ngoc Mai  Toan Tin         20    8.8  34    Thong ke\n",
      "23           8        Ho Ngoc Mai  Toan Tin         20    8.8  26     Tin hoc\n",
      "24           9     Duong Huu Phuc   Kinh Te          7    7.2  12   Giai tich\n",
      "25           9     Duong Huu Phuc   Kinh Te          7    7.2  34    Thong ke\n",
      "26           9     Duong Huu Phuc   Kinh Te          7    7.2  26     Tin hoc\n",
      "27          10       Cao Thi Hanh  May Tinh         12    7.0  12   Giai tich\n",
      "28          10       Cao Thi Hanh  May Tinh         12    7.0  34    Thong ke\n",
      "29          10       Cao Thi Hanh  May Tinh         12    7.0  26     Tin hoc\n"
     ]
    }
   ],
   "source": [
    "# Tích Descartes (Cross Join)\n",
    "cross_join = df_student.merge(df_course, how='cross')\n",
    "print(\"\\nTích Descartes (Cross Join):\\n\", cross_join)"
   ]
  },
  {
   "cell_type": "code",
   "execution_count": 3,
   "metadata": {},
   "outputs": [
    {
     "name": "stdout",
     "output_type": "stream",
     "text": [
      "\n",
      "INNER JOIN:\n",
      "    student_id               name     class  course_id  score  id course_name\n",
      "0           1  Nguyen Minh Hoang  May Tinh         12    6.7  12   Giai tich\n",
      "1           2       Tran Thi Lan   Kinh Te         34    9.2  34    Thong ke\n",
      "2           7      Bui Tien Dung   Kinh Te         34    9.2  34    Thong ke\n",
      "3          10       Cao Thi Hanh  May Tinh         12    7.0  12   Giai tich\n"
     ]
    }
   ],
   "source": [
    "# INNER JOIN\n",
    "inner_join = df_student.merge(df_course, left_on=\"course_id\", right_on=\"id\", how=\"inner\")\n",
    "print(\"\\nINNER JOIN:\\n\", inner_join)\n",
    "\n",
    "\n"
   ]
  },
  {
   "cell_type": "code",
   "execution_count": 4,
   "metadata": {},
   "outputs": [
    {
     "name": "stdout",
     "output_type": "stream",
     "text": [
      "\n",
      "LEFT JOIN:\n",
      "    student_id               name     class  course_id  score    id course_name\n",
      "0           1  Nguyen Minh Hoang  May Tinh         12    6.7  12.0   Giai tich\n",
      "1           2       Tran Thi Lan   Kinh Te         34    9.2  34.0    Thong ke\n",
      "2           3       Pham Van Nam  Toan Tin          7    7.9   NaN         NaN\n",
      "3           4     Le Thanh Huyen  Toan Tin         20    7.2   NaN         NaN\n",
      "4           5        Vu Quoc Anh  May Tinh         24    8.0   NaN         NaN\n",
      "5           6     Dang Thuy Linh  May Tinh         24    5.5   NaN         NaN\n",
      "6           7      Bui Tien Dung   Kinh Te         34    9.2  34.0    Thong ke\n",
      "7           8        Ho Ngoc Mai  Toan Tin         20    8.8   NaN         NaN\n",
      "8           9     Duong Huu Phuc   Kinh Te          7    7.2   NaN         NaN\n",
      "9          10       Cao Thi Hanh  May Tinh         12    7.0  12.0   Giai tich\n"
     ]
    }
   ],
   "source": [
    "# LEFT JOIN\n",
    "left_join = df_student.merge(df_course, left_on=\"course_id\", right_on=\"id\", how=\"left\")\n",
    "print(\"\\nLEFT JOIN:\\n\", left_join)\n",
    "\n"
   ]
  },
  {
   "cell_type": "code",
   "execution_count": 5,
   "metadata": {},
   "outputs": [
    {
     "name": "stdout",
     "output_type": "stream",
     "text": [
      "\n",
      "RIGHT JOIN:\n",
      "    student_id               name     class  course_id  score  id course_name\n",
      "0         1.0  Nguyen Minh Hoang  May Tinh       12.0    6.7  12   Giai tich\n",
      "1        10.0       Cao Thi Hanh  May Tinh       12.0    7.0  12   Giai tich\n",
      "2         2.0       Tran Thi Lan   Kinh Te       34.0    9.2  34    Thong ke\n",
      "3         7.0      Bui Tien Dung   Kinh Te       34.0    9.2  34    Thong ke\n",
      "4         NaN                NaN       NaN        NaN    NaN  26     Tin hoc\n"
     ]
    }
   ],
   "source": [
    "# RIGHT JOIN\n",
    "right_join = df_student.merge(df_course, left_on=\"course_id\", right_on=\"id\", how=\"right\")\n",
    "print(\"\\nRIGHT JOIN:\\n\", right_join)\n",
    "\n"
   ]
  },
  {
   "cell_type": "code",
   "execution_count": 6,
   "metadata": {},
   "outputs": [
    {
     "name": "stdout",
     "output_type": "stream",
     "text": [
      "\n",
      "FULL OUTER JOIN:\n",
      "     student_id               name     class  course_id  score    id  \\\n",
      "0          3.0       Pham Van Nam  Toan Tin        7.0    7.9   NaN   \n",
      "1          9.0     Duong Huu Phuc   Kinh Te        7.0    7.2   NaN   \n",
      "2          1.0  Nguyen Minh Hoang  May Tinh       12.0    6.7  12.0   \n",
      "3         10.0       Cao Thi Hanh  May Tinh       12.0    7.0  12.0   \n",
      "4          4.0     Le Thanh Huyen  Toan Tin       20.0    7.2   NaN   \n",
      "5          8.0        Ho Ngoc Mai  Toan Tin       20.0    8.8   NaN   \n",
      "6          5.0        Vu Quoc Anh  May Tinh       24.0    8.0   NaN   \n",
      "7          6.0     Dang Thuy Linh  May Tinh       24.0    5.5   NaN   \n",
      "8          NaN                NaN       NaN        NaN    NaN  26.0   \n",
      "9          2.0       Tran Thi Lan   Kinh Te       34.0    9.2  34.0   \n",
      "10         7.0      Bui Tien Dung   Kinh Te       34.0    9.2  34.0   \n",
      "\n",
      "   course_name  \n",
      "0          NaN  \n",
      "1          NaN  \n",
      "2    Giai tich  \n",
      "3    Giai tich  \n",
      "4          NaN  \n",
      "5          NaN  \n",
      "6          NaN  \n",
      "7          NaN  \n",
      "8      Tin hoc  \n",
      "9     Thong ke  \n",
      "10    Thong ke  \n"
     ]
    }
   ],
   "source": [
    "# FULL OUTER JOIN\n",
    "full_outer_join = df_student.merge(df_course, left_on=\"course_id\", right_on=\"id\", how=\"outer\")\n",
    "print(\"\\nFULL OUTER JOIN:\\n\", full_outer_join)"
   ]
  },
  {
   "cell_type": "markdown",
   "metadata": {},
   "source": [
    "## 2. Hãy cập nhật những giá trị course_id còn thiếu trong bảng student bằng câu lệnh SQL,trong đó các giá trị được điền là những giá trị nằm trong bảng course và loại bỏ nhữngbản ghi tham gia những môn học không tồn tại bảng course. Sau đó hãy cho biết:\n",
    "a. Tổng số sinh viên, điểm trung bình của từng lớp.\n",
    "\n",
    "b. Tổng số sinh viên, điểm trung bình của từng môn học.\n",
    "\n",
    "c. Phân loại thi đua theo số điểm của từng môn học biết:\n",
    "\n",
    "i. Điểm TB ≥ 9.0: Xuất sắc.\n",
    "\n",
    "ii. 6.0 ≤ Điểm TB ≤ 8.9: Tốt.\n",
    "\n",
    "iii. Điểm TB < 6.0: Kém.v"
   ]
  },
  {
   "cell_type": "code",
   "execution_count": 7,
   "metadata": {},
   "outputs": [
    {
     "name": "stdout",
     "output_type": "stream",
     "text": [
      "\n",
      "Tổng số sinh viên, điểm trung bình của từng lớp:\n",
      "           total_students  average_score\n",
      "class                                  \n",
      "Kinh Te                3       8.533333\n",
      "May Tinh               4       6.800000\n",
      "Toan Tin               3       7.966667\n"
     ]
    }
   ],
   "source": [
    "\n",
    "\n",
    "# a. Tổng số sinh viên, điểm trung bình của từng lớp\n",
    "class_summary = df_student.groupby(\"class\").agg(\n",
    "    total_students=(\"student_id\", \"count\"),\n",
    "    average_score=(\"score\", \"mean\")\n",
    ")\n",
    "print(\"\\nTổng số sinh viên, điểm trung bình của từng lớp:\\n\", class_summary)\n",
    "\n"
   ]
  },
  {
   "cell_type": "code",
   "execution_count": 8,
   "metadata": {},
   "outputs": [
    {
     "name": "stdout",
     "output_type": "stream",
     "text": [
      "\n",
      "Tổng số sinh viên, điểm trung bình của từng môn học:\n",
      "              total_students  average_score\n",
      "course_name                               \n",
      "Giai tich                 2           6.85\n",
      "Thong ke                  2           9.20\n"
     ]
    }
   ],
   "source": [
    "# b. Tổng số sinh viên, điểm trung bình của từng môn học\n",
    "course_summary = df_student.merge(df_course, left_on=\"course_id\", right_on=\"id\", how=\"left\").groupby(\"course_name\").agg(\n",
    "    total_students=(\"student_id\", \"count\"),\n",
    "    average_score=(\"score\", \"mean\")\n",
    ")\n",
    "print(\"\\nTổng số sinh viên, điểm trung bình của từng môn học:\\n\", course_summary)\n",
    "\n"
   ]
  },
  {
   "cell_type": "code",
   "execution_count": 9,
   "metadata": {},
   "outputs": [
    {
     "name": "stdout",
     "output_type": "stream",
     "text": [
      "\n",
      "Phân loại thi đua theo số điểm của từng môn học:\n",
      "              total_students  average_score classification\n",
      "course_name                                              \n",
      "Giai tich                 2           6.85            Tốt\n",
      "Thong ke                  2           9.20       Xuất sắc\n"
     ]
    }
   ],
   "source": [
    "# c. Phân loại thi đua theo số điểm của từng môn học\n",
    "def classify(score):\n",
    "    if score >= 9.0:\n",
    "        return \"Xuất sắc\"\n",
    "    elif 6.0 <= score <= 8.9:\n",
    "        return \"Tốt\"\n",
    "    else:\n",
    "        return \"Kém\"\n",
    "\n",
    "course_summary[\"classification\"] = course_summary[\"average_score\"].apply(classify)\n",
    "print(\"\\nPhân loại thi đua theo số điểm của từng môn học:\\n\", course_summary)\n"
   ]
  },
  {
   "cell_type": "markdown",
   "metadata": {},
   "source": [
    "## 3. Hãy xếp hạng sinh viên thông qua:\n",
    "a. Điểm số.\n",
    "\n",
    "b. Điểm số theo lớp học.\n",
    "\n",
    "c. Điểm số theo mã môn học.\n",
    "\n",
    "và cho biết top 3 sinh viện đạt thứ hạng cao nhất, top 3 sinh viên đạt thứ hạng thấp nhất theo\n",
    "từng trường hợp trên."
   ]
  },
  {
   "cell_type": "code",
   "execution_count": 22,
   "metadata": {},
   "outputs": [],
   "source": [
    "# Xếp hạng sinh viên theo điểm số\n",
    "df[\"rank\"] = df[\"score\"].rank(method=\"min\", ascending=False)"
   ]
  },
  {
   "cell_type": "code",
   "execution_count": 23,
   "metadata": {},
   "outputs": [],
   "source": [
    "\n",
    "# Xếp hạng theo lớp học\n",
    "df[\"class_rank\"] = df.groupby(\"class\")[\"score\"].rank(method=\"min\", ascending=False)"
   ]
  },
  {
   "cell_type": "code",
   "execution_count": 24,
   "metadata": {},
   "outputs": [],
   "source": [
    "\n",
    "# Xếp hạng theo mã môn học\n",
    "df[\"course_rank\"] = df.groupby(\"course_id\")[\"score\"].rank(method=\"min\", ascending=False)"
   ]
  },
  {
   "cell_type": "code",
   "execution_count": 25,
   "metadata": {},
   "outputs": [
    {
     "name": "stdout",
     "output_type": "stream",
     "text": [
      "Top 3 sinh viên có điểm cao nhất:\n",
      "   student_id           name     class  course_id  score  rank  class_rank  \\\n",
      "1           2   Tran Thi Lan   Kinh Te         34    9.2   1.0         1.0   \n",
      "6           7  Bui Tien Dung   Kinh Te         34    9.2   1.0         1.0   \n",
      "7           8    Ho Ngoc Mai  Toan Tin         20    8.8   3.0         1.0   \n",
      "\n",
      "   course_rank  \n",
      "1          1.0  \n",
      "6          1.0  \n",
      "7          1.0  \n",
      "\n",
      "Top 3 sinh viên có điểm thấp nhất:\n",
      "   student_id               name     class  course_id  score  rank  \\\n",
      "5           6     Dang Thuy Linh  May Tinh         24    5.5  10.0   \n",
      "0           1  Nguyen Minh Hoang  May Tinh         12    6.7   9.0   \n",
      "8           9     Duong Huu Phuc   Kinh Te         34    7.0   7.0   \n",
      "\n",
      "   class_rank  course_rank  \n",
      "5         4.0          2.0  \n",
      "0         3.0          2.0  \n",
      "8         3.0          3.0  \n"
     ]
    }
   ],
   "source": [
    "# Xuất ra top 3 sinh viên có điểm cao nhất và thấp nhất\n",
    "top_3 = df.nsmallest(3, \"rank\")\n",
    "bottom_3 = df.nlargest(3, \"rank\")\n",
    "\n",
    "print(\"Top 3 sinh viên có điểm cao nhất:\")\n",
    "print(top_3)\n",
    "\n",
    "print(\"\\nTop 3 sinh viên có điểm thấp nhất:\")\n",
    "print(bottom_3)"
   ]
  },
  {
   "cell_type": "markdown",
   "metadata": {},
   "source": [
    "## 4. Hãy bổ sung thêm một trường graduation_date có kiểu dữ liệu là DATETIME vào bảng student để xác định thời gian tốt nghiệp của từng bạn, trong đó thời gian tốt nghiệp được xác định bởi thời gian hiện tại cộng với số hạng tương ứng của bạn đó tính theo điểm số."
   ]
  },
  {
   "cell_type": "code",
   "execution_count": null,
   "metadata": {},
   "outputs": [
    {
     "name": "stdout",
     "output_type": "stream",
     "text": [
      "Top 3 sinh viên có điểm cao nhất:\n",
      "   student_id           name     class  course_id  score  rank  \\\n",
      "1           2   Tran Thi Lan   Kinh Te         34    9.2   1.0   \n",
      "6           7  Bui Tien Dung   Kinh Te         34    9.2   1.0   \n",
      "7           8    Ho Ngoc Mai  Toan Tin         20    8.8   3.0   \n",
      "\n",
      "             graduation_date  class_rank  course_rank  \n",
      "1 2025-04-11 08:46:06.693519         1.0          1.0  \n",
      "6 2025-04-11 08:46:06.693519         1.0          1.0  \n",
      "7 2025-06-10 08:46:06.693519         1.0          1.0  \n",
      "\n",
      "Top 3 sinh viên có điểm thấp nhất:\n",
      "   student_id               name     class  course_id  score  rank  \\\n",
      "5           6     Dang Thuy Linh  May Tinh         24    5.5  10.0   \n",
      "0           1  Nguyen Minh Hoang  May Tinh         12    6.7   9.0   \n",
      "8           9     Duong Huu Phuc   Kinh Te         34    7.0   7.0   \n",
      "\n",
      "             graduation_date  class_rank  course_rank  \n",
      "5 2026-01-06 08:46:06.693519         4.0          2.0  \n",
      "0 2025-12-07 08:46:06.693519         3.0          2.0  \n",
      "8 2025-10-08 08:46:06.693519         3.0          3.0  \n"
     ]
    }
   ],
   "source": [
    "\n",
    "# Xếp hạng sinh viên theo điểm số\n",
    "df[\"rank\"] = df[\"score\"].rank(method=\"min\", ascending=False)\n",
    "\n",
    "# Thêm cột graduation_date dựa vào thứ hạng từ điểm số\n",
    "from datetime import datetime, timedelta\n",
    "\n",
    "df[\"graduation_date\"] = df[\"rank\"].apply(lambda r: datetime.now() + timedelta(days=int(r)*30))\n",
    "\n",
    "# Xếp hạng theo lớp học\n",
    "df[\"class_rank\"] = df.groupby(\"class\")[\"score\"].rank(method=\"min\", ascending=False)\n",
    "\n",
    "# Xếp hạng theo mã môn học\n",
    "df[\"course_rank\"] = df.groupby(\"course_id\")[\"score\"].rank(method=\"min\", ascending=False)\n",
    "\n",
    "# Xuất ra top 3 sinh viên có điểm cao nhất và thấp nhất\n",
    "top_3 = df.nsmallest(3, \"rank\")\n",
    "bottom_3 = df.nlargest(3, \"rank\")\n",
    "\n",
    "print(\"Top 3 sinh viên có điểm cao nhất:\")\n",
    "print(top_3)\n",
    "\n",
    "print(\"\\nTop 3 sinh viên có điểm thấp nhất:\")\n",
    "print(bottom_3)\n"
   ]
  }
 ],
 "metadata": {
  "kernelspec": {
   "display_name": "base",
   "language": "python",
   "name": "python3"
  },
  "language_info": {
   "codemirror_mode": {
    "name": "ipython",
    "version": 3
   },
   "file_extension": ".py",
   "mimetype": "text/x-python",
   "name": "python",
   "nbconvert_exporter": "python",
   "pygments_lexer": "ipython3",
   "version": "3.12.4"
  }
 },
 "nbformat": 4,
 "nbformat_minor": 2
}
